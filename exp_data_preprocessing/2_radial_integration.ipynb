{
 "cells": [
  {
   "cell_type": "markdown",
   "metadata": {
    "collapsed": false,
    "pycharm": {
     "name": "#%% md\n"
    }
   },
   "source": [
    "## Integrate radially first\n",
    "\n",
    "Important: Hyperspy file needs to be calibrated and distortion corrected and beam centered"
   ]
  },
  {
   "cell_type": "code",
   "execution_count": 1,
   "metadata": {
    "collapsed": false,
    "pycharm": {
     "name": "#%%\n"
    }
   },
   "outputs": [
    {
     "name": "stderr",
     "output_type": "stream",
     "text": [
      "WARNING:silx.opencl.common:Unable to import pyOpenCl. Please install it from: https://pypi.org/project/pyopencl\n"
     ]
    }
   ],
   "source": [
    "from pyFAI.azimuthalIntegrator import AzimuthalIntegrator\n",
    "%matplotlib qt\n",
    "import pyxem as pxm\n",
    "import hyperspy.api as hs\n",
    "import os, glob, tqdm\n",
    "import gc\n",
    "import numpy as np\n",
    "from diffsims.utils.sim_utils import get_electron_wavelength"
   ]
  },
  {
   "cell_type": "code",
   "execution_count": 2,
   "metadata": {
    "collapsed": false,
    "pycharm": {
     "name": "#%%\n"
    }
   },
   "outputs": [
    {
     "data": {
      "text/html": [
       "<table>\n",
       "    <tr>\n",
       "        <td>\n",
       "            <table>\n",
       "                <thead>\n",
       "                    <tr>\n",
       "                        <th> Title: </th>\n",
       "                        <td>  </td>\n",
       "                    </tr>\n",
       "                    <tr>\n",
       "                        <th> SignalType: </th>\n",
       "                        <td> electron_diffraction </td>\n",
       "                    </tr>\n",
       "                </thead>\n",
       "                <thead>\n",
       "                    <tr>\n",
       "                        <td>  </td>\n",
       "                        <th> Array </th>\n",
       "                        <th> Chunk </th>\n",
       "                    </tr>\n",
       "                </thead>\n",
       "                <tbody>\n",
       "                    \n",
       "                    <tr>\n",
       "                        <th> Bytes </th>\n",
       "                        <td> 16.06 GiB </td>\n",
       "                        <td> 259.01 kiB </td>\n",
       "                    </tr>\n",
       "                    \n",
       "                    <tr>\n",
       "                        <th> Shape </th>\n",
       "                        <td> (255, 255|515, 515) </td>\n",
       "                        <td> (1,1|<b>515</b>,<b>515</b>) </td>\n",
       "                    </tr>\n",
       "                    <tr>\n",
       "                        <th> Count </th>\n",
       "                        <td> 65026 Tasks </td>\n",
       "                        <td> 65025 Chunks </td>\n",
       "                    </tr>\n",
       "                    <tr>\n",
       "                    <th> Type </th>\n",
       "                    <td> uint8 </td>\n",
       "                    <td> numpy.ndarray </td>\n",
       "                    </tr>\n",
       "                </tbody>\n",
       "            </table>\n",
       "        </td>\n",
       "        <td>\n",
       "            <table>\n",
       "                <thead>\n",
       "                    <tr>\n",
       "                        <th><p style=\"text-align:left;\">Navigation Axes</p>  </th>\n",
       "                        <th> <p style=\"text-align:left;\">Signal Axes</p> </th>\n",
       "                    </tr>\n",
       "                </thead>\n",
       "                <tbody>\n",
       "                    <tr>\n",
       "                        <td> <svg width=\"170\" height=\"170\" style=\"stroke:rgb(0,0,0);stroke-width:1\" >\n",
       "\n",
       "  <!-- Horizontal lines -->\n",
       "  <line x1=\"0\" y1=\"0\" x2=\"120\" y2=\"0\" style=\"stroke-width:2\" />\n",
       "  <line x1=\"0\" y1=\"6\" x2=\"120\" y2=\"6\" />\n",
       "  <line x1=\"0\" y1=\"12\" x2=\"120\" y2=\"12\" />\n",
       "  <line x1=\"0\" y1=\"18\" x2=\"120\" y2=\"18\" />\n",
       "  <line x1=\"0\" y1=\"24\" x2=\"120\" y2=\"24\" />\n",
       "  <line x1=\"0\" y1=\"31\" x2=\"120\" y2=\"31\" />\n",
       "  <line x1=\"0\" y1=\"37\" x2=\"120\" y2=\"37\" />\n",
       "  <line x1=\"0\" y1=\"43\" x2=\"120\" y2=\"43\" />\n",
       "  <line x1=\"0\" y1=\"50\" x2=\"120\" y2=\"50\" />\n",
       "  <line x1=\"0\" y1=\"56\" x2=\"120\" y2=\"56\" />\n",
       "  <line x1=\"0\" y1=\"63\" x2=\"120\" y2=\"63\" />\n",
       "  <line x1=\"0\" y1=\"69\" x2=\"120\" y2=\"69\" />\n",
       "  <line x1=\"0\" y1=\"75\" x2=\"120\" y2=\"75\" />\n",
       "  <line x1=\"0\" y1=\"81\" x2=\"120\" y2=\"81\" />\n",
       "  <line x1=\"0\" y1=\"88\" x2=\"120\" y2=\"88\" />\n",
       "  <line x1=\"0\" y1=\"94\" x2=\"120\" y2=\"94\" />\n",
       "  <line x1=\"0\" y1=\"100\" x2=\"120\" y2=\"100\" />\n",
       "  <line x1=\"0\" y1=\"107\" x2=\"120\" y2=\"107\" />\n",
       "  <line x1=\"0\" y1=\"113\" x2=\"120\" y2=\"113\" />\n",
       "  <line x1=\"0\" y1=\"120\" x2=\"120\" y2=\"120\" style=\"stroke-width:2\" />\n",
       "\n",
       "  <!-- Vertical lines -->\n",
       "  <line x1=\"0\" y1=\"0\" x2=\"0\" y2=\"120\" style=\"stroke-width:2\" />\n",
       "  <line x1=\"6\" y1=\"0\" x2=\"6\" y2=\"120\" />\n",
       "  <line x1=\"12\" y1=\"0\" x2=\"12\" y2=\"120\" />\n",
       "  <line x1=\"18\" y1=\"0\" x2=\"18\" y2=\"120\" />\n",
       "  <line x1=\"24\" y1=\"0\" x2=\"24\" y2=\"120\" />\n",
       "  <line x1=\"31\" y1=\"0\" x2=\"31\" y2=\"120\" />\n",
       "  <line x1=\"37\" y1=\"0\" x2=\"37\" y2=\"120\" />\n",
       "  <line x1=\"43\" y1=\"0\" x2=\"43\" y2=\"120\" />\n",
       "  <line x1=\"50\" y1=\"0\" x2=\"50\" y2=\"120\" />\n",
       "  <line x1=\"56\" y1=\"0\" x2=\"56\" y2=\"120\" />\n",
       "  <line x1=\"63\" y1=\"0\" x2=\"63\" y2=\"120\" />\n",
       "  <line x1=\"69\" y1=\"0\" x2=\"69\" y2=\"120\" />\n",
       "  <line x1=\"75\" y1=\"0\" x2=\"75\" y2=\"120\" />\n",
       "  <line x1=\"81\" y1=\"0\" x2=\"81\" y2=\"120\" />\n",
       "  <line x1=\"88\" y1=\"0\" x2=\"88\" y2=\"120\" />\n",
       "  <line x1=\"94\" y1=\"0\" x2=\"94\" y2=\"120\" />\n",
       "  <line x1=\"100\" y1=\"0\" x2=\"100\" y2=\"120\" />\n",
       "  <line x1=\"107\" y1=\"0\" x2=\"107\" y2=\"120\" />\n",
       "  <line x1=\"113\" y1=\"0\" x2=\"113\" y2=\"120\" />\n",
       "  <line x1=\"120\" y1=\"0\" x2=\"120\" y2=\"120\" style=\"stroke-width:2\" />\n",
       "\n",
       "  <!-- Colored Rectangle -->\n",
       "  <polygon points=\"0.0,0.0 120.0,0.0 120.0,120.0 0.0,120.0\" style=\"fill:#8B4903A0;stroke-width:0\"/>\n",
       "\n",
       "  <!-- Text -->\n",
       "  <text x=\"60.000000\" y=\"140.000000\" font-size=\"1.0rem\" font-weight=\"100\" text-anchor=\"middle\" >255</text>\n",
       "  <text x=\"140.000000\" y=\"60.000000\" font-size=\"1.0rem\" font-weight=\"100\" text-anchor=\"middle\" transform=\"rotate(-90,140.000000,60.000000)\">255</text>\n",
       "</svg> </td>\n",
       "                        <td> <svg width=\"170\" height=\"170\" style=\"stroke:rgb(0,0,0);stroke-width:1\" >\n",
       "\n",
       "  <!-- Horizontal lines -->\n",
       "  <line x1=\"0\" y1=\"0\" x2=\"120\" y2=\"0\" style=\"stroke-width:2\" />\n",
       "  <line x1=\"0\" y1=\"120\" x2=\"120\" y2=\"120\" style=\"stroke-width:2\" />\n",
       "\n",
       "  <!-- Vertical lines -->\n",
       "  <line x1=\"0\" y1=\"0\" x2=\"0\" y2=\"120\" style=\"stroke-width:2\" />\n",
       "  <line x1=\"120\" y1=\"0\" x2=\"120\" y2=\"120\" style=\"stroke-width:2\" />\n",
       "\n",
       "  <!-- Colored Rectangle -->\n",
       "  <polygon points=\"0.0,0.0 120.0,0.0 120.0,120.0 0.0,120.0\" style=\"fill:#ECB172A0;stroke-width:0\"/>\n",
       "\n",
       "  <!-- Text -->\n",
       "  <text x=\"60.000000\" y=\"140.000000\" font-size=\"1.0rem\" font-weight=\"100\" text-anchor=\"middle\" >515</text>\n",
       "  <text x=\"140.000000\" y=\"60.000000\" font-size=\"1.0rem\" font-weight=\"100\" text-anchor=\"middle\" transform=\"rotate(-90,140.000000,60.000000)\">515</text>\n",
       "</svg> </td>\n",
       "                    </tr>\n",
       "                </tbody>\n",
       "            </table>\n",
       "        </td>\n",
       "    </tr>\n",
       "</table>"
      ],
      "text/plain": [
       "<LazyElectronDiffraction2D, title: , dimensions: (255, 255|515, 515)>"
      ]
     },
     "execution_count": 2,
     "metadata": {},
     "output_type": "execute_result"
    }
   ],
   "source": [
    "root = r\"G:\\My Drive\\PhD\\projects\\sed_ML\\clustering_poyen\"\n",
    "#experiment = r\"data\\20221029_first_attempt\\cluster_navigators\"\n",
    "\n",
    "dp_data = r\"data\\experimental\\tcdh_thin_20211117_182814\\20211117_182814_data_calibrated_data.hspy\"\n",
    "dp_data = r\"data\\experimental\\polytype_all_20220720_155557\\20220720_155557_data_calibrated_data.hspy\"\n",
    "dp_data = r\"data\\experimental\\dcdh_20220628_114631\\20220628_114631_data_calibrated_data.hspy\"\n",
    "dp_data = r\"data\\experimental\\tcdh_thin_20211117_182521\\20211117_182521_data_calibrated_data.hspy\"\n",
    "\n",
    "p = os.path.join(root, dp_data)\n",
    "dp = hs.load(p, lazy=True)\n",
    "#dp = dp.inav[67:107,52:87]\n",
    "dp"
   ]
  },
  {
   "cell_type": "code",
   "execution_count": 3,
   "metadata": {},
   "outputs": [
    {
     "data": {
      "text/html": [
       "<table>\n",
       "    <tr>\n",
       "        <td>\n",
       "            <table>\n",
       "                <thead>\n",
       "                    <tr>\n",
       "                        <th> Title: </th>\n",
       "                        <td>  </td>\n",
       "                    </tr>\n",
       "                    <tr>\n",
       "                        <th> SignalType: </th>\n",
       "                        <td> electron_diffraction </td>\n",
       "                    </tr>\n",
       "                </thead>\n",
       "                <thead>\n",
       "                    <tr>\n",
       "                        <td>  </td>\n",
       "                        <th> Array </th>\n",
       "                        <th> Chunk </th>\n",
       "                    </tr>\n",
       "                </thead>\n",
       "                <tbody>\n",
       "                    \n",
       "                    <tr>\n",
       "                        <th> Bytes </th>\n",
       "                        <td> 6.01 GiB </td>\n",
       "                        <td> 96.90 kiB </td>\n",
       "                    </tr>\n",
       "                    \n",
       "                    <tr>\n",
       "                        <th> Shape </th>\n",
       "                        <td> (255, 255|315, 315) </td>\n",
       "                        <td> (1,1|<b>315</b>,<b>315</b>) </td>\n",
       "                    </tr>\n",
       "                    <tr>\n",
       "                        <th> Count </th>\n",
       "                        <td> 130051 Tasks </td>\n",
       "                        <td> 65025 Chunks </td>\n",
       "                    </tr>\n",
       "                    <tr>\n",
       "                    <th> Type </th>\n",
       "                    <td> uint8 </td>\n",
       "                    <td> numpy.ndarray </td>\n",
       "                    </tr>\n",
       "                </tbody>\n",
       "            </table>\n",
       "        </td>\n",
       "        <td>\n",
       "            <table>\n",
       "                <thead>\n",
       "                    <tr>\n",
       "                        <th><p style=\"text-align:left;\">Navigation Axes</p>  </th>\n",
       "                        <th> <p style=\"text-align:left;\">Signal Axes</p> </th>\n",
       "                    </tr>\n",
       "                </thead>\n",
       "                <tbody>\n",
       "                    <tr>\n",
       "                        <td> <svg width=\"170\" height=\"170\" style=\"stroke:rgb(0,0,0);stroke-width:1\" >\n",
       "\n",
       "  <!-- Horizontal lines -->\n",
       "  <line x1=\"0\" y1=\"0\" x2=\"120\" y2=\"0\" style=\"stroke-width:2\" />\n",
       "  <line x1=\"0\" y1=\"6\" x2=\"120\" y2=\"6\" />\n",
       "  <line x1=\"0\" y1=\"12\" x2=\"120\" y2=\"12\" />\n",
       "  <line x1=\"0\" y1=\"18\" x2=\"120\" y2=\"18\" />\n",
       "  <line x1=\"0\" y1=\"24\" x2=\"120\" y2=\"24\" />\n",
       "  <line x1=\"0\" y1=\"31\" x2=\"120\" y2=\"31\" />\n",
       "  <line x1=\"0\" y1=\"37\" x2=\"120\" y2=\"37\" />\n",
       "  <line x1=\"0\" y1=\"43\" x2=\"120\" y2=\"43\" />\n",
       "  <line x1=\"0\" y1=\"50\" x2=\"120\" y2=\"50\" />\n",
       "  <line x1=\"0\" y1=\"56\" x2=\"120\" y2=\"56\" />\n",
       "  <line x1=\"0\" y1=\"63\" x2=\"120\" y2=\"63\" />\n",
       "  <line x1=\"0\" y1=\"69\" x2=\"120\" y2=\"69\" />\n",
       "  <line x1=\"0\" y1=\"75\" x2=\"120\" y2=\"75\" />\n",
       "  <line x1=\"0\" y1=\"81\" x2=\"120\" y2=\"81\" />\n",
       "  <line x1=\"0\" y1=\"88\" x2=\"120\" y2=\"88\" />\n",
       "  <line x1=\"0\" y1=\"94\" x2=\"120\" y2=\"94\" />\n",
       "  <line x1=\"0\" y1=\"100\" x2=\"120\" y2=\"100\" />\n",
       "  <line x1=\"0\" y1=\"107\" x2=\"120\" y2=\"107\" />\n",
       "  <line x1=\"0\" y1=\"113\" x2=\"120\" y2=\"113\" />\n",
       "  <line x1=\"0\" y1=\"120\" x2=\"120\" y2=\"120\" style=\"stroke-width:2\" />\n",
       "\n",
       "  <!-- Vertical lines -->\n",
       "  <line x1=\"0\" y1=\"0\" x2=\"0\" y2=\"120\" style=\"stroke-width:2\" />\n",
       "  <line x1=\"6\" y1=\"0\" x2=\"6\" y2=\"120\" />\n",
       "  <line x1=\"12\" y1=\"0\" x2=\"12\" y2=\"120\" />\n",
       "  <line x1=\"18\" y1=\"0\" x2=\"18\" y2=\"120\" />\n",
       "  <line x1=\"24\" y1=\"0\" x2=\"24\" y2=\"120\" />\n",
       "  <line x1=\"31\" y1=\"0\" x2=\"31\" y2=\"120\" />\n",
       "  <line x1=\"37\" y1=\"0\" x2=\"37\" y2=\"120\" />\n",
       "  <line x1=\"43\" y1=\"0\" x2=\"43\" y2=\"120\" />\n",
       "  <line x1=\"50\" y1=\"0\" x2=\"50\" y2=\"120\" />\n",
       "  <line x1=\"56\" y1=\"0\" x2=\"56\" y2=\"120\" />\n",
       "  <line x1=\"63\" y1=\"0\" x2=\"63\" y2=\"120\" />\n",
       "  <line x1=\"69\" y1=\"0\" x2=\"69\" y2=\"120\" />\n",
       "  <line x1=\"75\" y1=\"0\" x2=\"75\" y2=\"120\" />\n",
       "  <line x1=\"81\" y1=\"0\" x2=\"81\" y2=\"120\" />\n",
       "  <line x1=\"88\" y1=\"0\" x2=\"88\" y2=\"120\" />\n",
       "  <line x1=\"94\" y1=\"0\" x2=\"94\" y2=\"120\" />\n",
       "  <line x1=\"100\" y1=\"0\" x2=\"100\" y2=\"120\" />\n",
       "  <line x1=\"107\" y1=\"0\" x2=\"107\" y2=\"120\" />\n",
       "  <line x1=\"113\" y1=\"0\" x2=\"113\" y2=\"120\" />\n",
       "  <line x1=\"120\" y1=\"0\" x2=\"120\" y2=\"120\" style=\"stroke-width:2\" />\n",
       "\n",
       "  <!-- Colored Rectangle -->\n",
       "  <polygon points=\"0.0,0.0 120.0,0.0 120.0,120.0 0.0,120.0\" style=\"fill:#8B4903A0;stroke-width:0\"/>\n",
       "\n",
       "  <!-- Text -->\n",
       "  <text x=\"60.000000\" y=\"140.000000\" font-size=\"1.0rem\" font-weight=\"100\" text-anchor=\"middle\" >255</text>\n",
       "  <text x=\"140.000000\" y=\"60.000000\" font-size=\"1.0rem\" font-weight=\"100\" text-anchor=\"middle\" transform=\"rotate(-90,140.000000,60.000000)\">255</text>\n",
       "</svg> </td>\n",
       "                        <td> <svg width=\"170\" height=\"170\" style=\"stroke:rgb(0,0,0);stroke-width:1\" >\n",
       "\n",
       "  <!-- Horizontal lines -->\n",
       "  <line x1=\"0\" y1=\"0\" x2=\"120\" y2=\"0\" style=\"stroke-width:2\" />\n",
       "  <line x1=\"0\" y1=\"120\" x2=\"120\" y2=\"120\" style=\"stroke-width:2\" />\n",
       "\n",
       "  <!-- Vertical lines -->\n",
       "  <line x1=\"0\" y1=\"0\" x2=\"0\" y2=\"120\" style=\"stroke-width:2\" />\n",
       "  <line x1=\"120\" y1=\"0\" x2=\"120\" y2=\"120\" style=\"stroke-width:2\" />\n",
       "\n",
       "  <!-- Colored Rectangle -->\n",
       "  <polygon points=\"0.0,0.0 120.0,0.0 120.0,120.0 0.0,120.0\" style=\"fill:#ECB172A0;stroke-width:0\"/>\n",
       "\n",
       "  <!-- Text -->\n",
       "  <text x=\"60.000000\" y=\"140.000000\" font-size=\"1.0rem\" font-weight=\"100\" text-anchor=\"middle\" >315</text>\n",
       "  <text x=\"140.000000\" y=\"60.000000\" font-size=\"1.0rem\" font-weight=\"100\" text-anchor=\"middle\" transform=\"rotate(-90,140.000000,60.000000)\">315</text>\n",
       "</svg> </td>\n",
       "                    </tr>\n",
       "                </tbody>\n",
       "            </table>\n",
       "        </td>\n",
       "    </tr>\n",
       "</table>"
      ],
      "text/plain": [
       "<LazyElectronDiffraction2D, title: , dimensions: (255, 255|315, 315)>"
      ]
     },
     "execution_count": 3,
     "metadata": {},
     "output_type": "execute_result"
    }
   ],
   "source": [
    "dp = dp.isig[100:-100, 100:-100]\n",
    "dp"
   ]
  },
  {
   "cell_type": "code",
   "execution_count": 4,
   "metadata": {},
   "outputs": [
    {
     "name": "stdout",
     "output_type": "stream",
     "text": [
      "[########################################] | 100% Completed | 229.93 s\n"
     ]
    }
   ],
   "source": [
    "dp.compute()"
   ]
  },
  {
   "cell_type": "code",
   "execution_count": 5,
   "metadata": {},
   "outputs": [],
   "source": [
    "#dp.plot(vmax=10)"
   ]
  },
  {
   "cell_type": "code",
   "execution_count": 6,
   "metadata": {
    "collapsed": false,
    "pycharm": {
     "name": "#%%\n"
    }
   },
   "outputs": [
    {
     "name": "stdout",
     "output_type": "stream",
     "text": [
      "G:\\My Drive\\PhD\\projects\\sed_ML\\clustering_poyen\\data\\experimental\\tcdh_thin_20211117_182521\\20211117_182521_data_calibrated_data.hspy\n"
     ]
    },
    {
     "name": "stderr",
     "output_type": "stream",
     "text": [
      "WARNING:pyFAI.geometry:No fast path for space: k\n"
     ]
    },
    {
     "name": "stdout",
     "output_type": "stream",
     "text": [
      "[########################################] | 100% Completed | 431.99 s\n",
      "<ElectronDiffraction1D, title: , dimensions: (255, 255|156)>\n"
     ]
    },
    {
     "name": "stderr",
     "output_type": "stream",
     "text": [
      "ERROR:hyperspy.io_plugins._hierarchical:The writer could not write the following information in the file: ai : Detector Detector\t Spline= None\t PixelSize= 1.293e-04, 1.293e-04 m\n",
      "Wavelength= 2.507934e-12m\n",
      "SampleDetDist= 1.000000e+00m\tPONI= 2.035828e-02, 2.035828e-02m\trot1=0.000000  rot2= 0.000000  rot3= 0.000000 rad\n",
      "DirectBeamDist= 1000.000mm\tCenter: x=157.500, y=157.500 pix\tTilt=0.000 deg  tiltPlanRotation= 0.000 deg\n",
      "Traceback (most recent call last):\n",
      "  File \"c:\\Users\\jf631\\miniconda3\\envs\\pyxem_py4dstem\\lib\\site-packages\\hyperspy\\io_plugins\\_hierarchical.py\", line 786, in dict2group\n",
      "    group.attrs[key] = value\n",
      "  File \"h5py\\_objects.pyx\", line 54, in h5py._objects.with_phil.wrapper\n",
      "  File \"h5py\\_objects.pyx\", line 55, in h5py._objects.with_phil.wrapper\n",
      "  File \"c:\\Users\\jf631\\miniconda3\\envs\\pyxem_py4dstem\\lib\\site-packages\\h5py\\_hl\\attrs.py\", line 103, in __setitem__\n",
      "    self.create(name, data=value)\n",
      "  File \"c:\\Users\\jf631\\miniconda3\\envs\\pyxem_py4dstem\\lib\\site-packages\\h5py\\_hl\\attrs.py\", line 180, in create\n",
      "    htype = h5t.py_create(original_dtype, logical=True)\n",
      "  File \"h5py\\h5t.pyx\", line 1663, in h5py.h5t.py_create\n",
      "  File \"h5py\\h5t.pyx\", line 1687, in h5py.h5t.py_create\n",
      "  File \"h5py\\h5t.pyx\", line 1747, in h5py.h5t.py_create\n",
      "TypeError: Object dtype dtype('O') has no native HDF5 equivalent\n"
     ]
    },
    {
     "name": "stdout",
     "output_type": "stream",
     "text": [
      "[########################################] | 100% Completed | 525.10 s\n"
     ]
    },
    {
     "name": "stderr",
     "output_type": "stream",
     "text": [
      "ERROR:hyperspy.io_plugins._hierarchical:The writer could not write the following information in the file: ai : Detector Detector\t Spline= None\t PixelSize= 1.293e-04, 1.293e-04 m\n",
      "Wavelength= 2.507934e-12m\n",
      "SampleDetDist= 1.000000e+00m\tPONI= 2.035828e-02, 2.035828e-02m\trot1=0.000000  rot2= 0.000000  rot3= 0.000000 rad\n",
      "DirectBeamDist= 1000.000mm\tCenter: x=157.500, y=157.500 pix\tTilt=0.000 deg  tiltPlanRotation= 0.000 deg\n",
      "Traceback (most recent call last):\n",
      "  File \"c:\\Users\\jf631\\miniconda3\\envs\\pyxem_py4dstem\\lib\\site-packages\\hyperspy\\io_plugins\\_hierarchical.py\", line 786, in dict2group\n",
      "    group.attrs[key] = value\n",
      "  File \"h5py\\_objects.pyx\", line 54, in h5py._objects.with_phil.wrapper\n",
      "  File \"h5py\\_objects.pyx\", line 55, in h5py._objects.with_phil.wrapper\n",
      "  File \"c:\\Users\\jf631\\miniconda3\\envs\\pyxem_py4dstem\\lib\\site-packages\\h5py\\_hl\\attrs.py\", line 103, in __setitem__\n",
      "    self.create(name, data=value)\n",
      "  File \"c:\\Users\\jf631\\miniconda3\\envs\\pyxem_py4dstem\\lib\\site-packages\\h5py\\_hl\\attrs.py\", line 180, in create\n",
      "    htype = h5t.py_create(original_dtype, logical=True)\n",
      "  File \"h5py\\h5t.pyx\", line 1663, in h5py.h5t.py_create\n",
      "  File \"h5py\\h5t.pyx\", line 1687, in h5py.h5t.py_create\n",
      "  File \"h5py\\h5t.pyx\", line 1747, in h5py.h5t.py_create\n",
      "TypeError: Object dtype dtype('O') has no native HDF5 equivalent\n"
     ]
    },
    {
     "name": "stdout",
     "output_type": "stream",
     "text": [
      "Finished with 20211117_182521_data_calibrated_data_radial2d.hspy\n"
     ]
    },
    {
     "data": {
      "text/plain": [
       "2591"
      ]
     },
     "execution_count": 6,
     "metadata": {},
     "output_type": "execute_result"
    }
   ],
   "source": [
    "from pyxem.detectors import Medipix515x515Detector\n",
    "\n",
    "# Simulation microscope values (for azimuthal integration)\n",
    "beam_energy = 200.0  #keV\n",
    "detector_pix_size = 55e-6  #m\n",
    "\n",
    "\n",
    "print(p)\n",
    "\n",
    "calibration = dp.axes_manager.signal_axes[0].scale\n",
    "detector_size = dp.axes_manager.signal_axes[0].size\n",
    "radial_steps = int(np.ceil((int(detector_size / 2) - 1) / 2) * 2)\n",
    "\n",
    "# # Old way (pyxem way):\n",
    "#dp.set_diffraction_calibration(calibration)\n",
    "dp.metadata.Signal.ai = None\n",
    "dp.unit = \"k_A^-1\"\n",
    "dp.set_experimental_parameters(beam_energy=beam_energy)\n",
    "dp.set_ai(center=([detector_size / 2, detector_size / 2]))\n",
    "\n",
    "# New way (pyFAI)\n",
    "# detector = Medipix515x515Detector()\n",
    "# wavelength = get_electron_wavelength(beam_energy) * 1e-10\n",
    "# camera_length = detector_pix_size / (wavelength * calibration * 1e10)\n",
    "# center = ([detector_size / 2, detector_size / 2])\n",
    "# unit = \"k_A^-1\"\n",
    "# dp.unit = unit\n",
    "# ai = AzimuthalIntegrator(dist=camera_length, detector=detector, wavelength=wavelength)\n",
    "# ai.setFit2D(directDist=camera_length * 1000, centerX=center[1], centerY=center[0])\n",
    "# dp.metadata.set_item(\"Signal.ai\", ai)\n",
    "\n",
    "radial = dp.get_azimuthal_integral1d(npt=radial_steps)\n",
    "print(radial)\n",
    "name = \"{}_radial.hspy\".format(os.path.basename(p).split('.')[0])\n",
    "radial.save(os.path.join(os.path.dirname(p), name), overwrite=True)\n",
    "\n",
    "radial2d = dp.get_azimuthal_integral2d(npt=radial_steps)\n",
    "name = \"{}_radial2d.hspy\".format(os.path.basename(p).split('.')[0])\n",
    "radial2d.save(os.path.join(os.path.dirname(p), name), overwrite=True)\n",
    "print(f\"Finished with {name}\")\n",
    "\n",
    "del dp\n",
    "gc.collect()\n"
   ]
  },
  {
   "cell_type": "code",
   "execution_count": 7,
   "metadata": {
    "collapsed": false,
    "pycharm": {
     "name": "#%%\n"
    }
   },
   "outputs": [],
   "source": [
    "radial.plot()\n",
    "radial2d.plot(vmax=10)"
   ]
  },
  {
   "cell_type": "code",
   "execution_count": 8,
   "metadata": {},
   "outputs": [
    {
     "data": {
      "text/plain": [
       "<ElectronDiffraction1D, title: , dimensions: (255, 255|156)>"
      ]
     },
     "execution_count": 8,
     "metadata": {},
     "output_type": "execute_result"
    }
   ],
   "source": [
    "radial"
   ]
  },
  {
   "cell_type": "markdown",
   "metadata": {
    "collapsed": false,
    "pycharm": {
     "name": "#%% md\n"
    }
   },
   "source": [
    "## Crop, interpolate (with rebin) to match simulated range\n",
    "\n",
    "The simulated range has the following format. Make sure the processed exp data has the same:\n",
    "- Pixel size: 147 px\n",
    "- Range in q (no $2\\pi/d$ but just $1/d$): (0.10777668889613681, 1.318191810345058) $\\AA^{-1}$"
   ]
  },
  {
   "cell_type": "code",
   "execution_count": 9,
   "metadata": {
    "collapsed": false,
    "pycharm": {
     "name": "#%%\n"
    }
   },
   "outputs": [],
   "source": [
    "# DO NOT CHANGE!!!\n",
    "crop_range_q = (0.10777668889613681, 1.318191810345058) # A-1\n",
    "crop_size = 147 #px"
   ]
  },
  {
   "cell_type": "code",
   "execution_count": 10,
   "metadata": {
    "collapsed": false,
    "pycharm": {
     "name": "#%%\n"
    }
   },
   "outputs": [],
   "source": [
    "%matplotlib qt\n",
    "import hyperspy.api as hs\n",
    "import os, glob\n",
    "import numpy as np\n",
    "from scipy import interpolate\n",
    "import warnings\n",
    "import matplotlib.pyplot as plt"
   ]
  },
  {
   "cell_type": "code",
   "execution_count": 11,
   "metadata": {
    "collapsed": false,
    "pycharm": {
     "name": "#%%\n"
    }
   },
   "outputs": [],
   "source": [
    "def interpolate_1d(signal_data, q_array, crop_range_q, crop_size):\n",
    "    # Do interpolation\n",
    "    x = q_array\n",
    "    y = signal_data\n",
    "    f = interpolate.interp1d(x, y, fill_value='extrapolate')\n",
    "\n",
    "    # Generate new data\n",
    "    x_new = np.linspace(crop_range_q[0], crop_range_q[1], crop_size)\n",
    "    y_interpol = f(x_new)\n",
    "    return y_interpol\n",
    "\n",
    "def interpolate_2d(signal_data, q_array, crop_range_q, crop_size):\n",
    "    signal_data = signal_data.T\n",
    "\n",
    "    y_interpol_2d = \\\n",
    "        np.vstack([interpolate_1d(row, q_array, crop_range_q, crop_size)\n",
    "                   for row in signal_data])\n",
    "    return y_interpol_2d.T"
   ]
  },
  {
   "cell_type": "markdown",
   "metadata": {},
   "source": [
    "## 1d interpolation"
   ]
  },
  {
   "cell_type": "code",
   "execution_count": 12,
   "metadata": {
    "collapsed": false,
    "pycharm": {
     "name": "#%%\n"
    }
   },
   "outputs": [
    {
     "data": {
      "text/plain": [
       "['G:\\\\My Drive\\\\PhD\\\\projects\\\\sed_ML\\\\clustering_poyen\\\\data\\\\experimental\\\\tcdh_thin_20211117_182521\\\\20211117_182521_data_calibrated_data_radial.hspy']"
      ]
     },
     "execution_count": 12,
     "metadata": {},
     "output_type": "execute_result"
    }
   ],
   "source": [
    "folder = os.path.dirname(p)\n",
    "file_extension = '*.hspy'\n",
    "\n",
    "path = os.path.join(root, folder, file_extension)\n",
    "paths = glob.glob(path)\n",
    "paths = [p for p in paths if 'radial.' in p and 'crop' not in p]\n",
    "paths.sort()\n",
    "paths"
   ]
  },
  {
   "cell_type": "code",
   "execution_count": 13,
   "metadata": {
    "collapsed": false,
    "pycharm": {
     "name": "#%%\n"
    }
   },
   "outputs": [
    {
     "name": "stdout",
     "output_type": "stream",
     "text": [
      "[                                        ] | 0% Completed | 115.96 ms"
     ]
    },
    {
     "name": "stderr",
     "output_type": "stream",
     "text": [
      "C:\\Users\\jf631\\AppData\\Local\\Temp\\ipykernel_3116\\3279812516.py:6: UserWarning: The range at which signal was acquired is not large enough. Extrapolation will be used using scipy.interpolate.interp1d\n",
      "  warnings.warn(\"The range at which signal was acquired is not large enough. Extrapolation will be used using scipy.interpolate.interp1d\")\n"
     ]
    },
    {
     "name": "stdout",
     "output_type": "stream",
     "text": [
      "[########################################] | 100% Completed | 7.20 ss\n",
      "<ElectronDiffraction1D, title: , dimensions: (255, 255|147)>\n"
     ]
    }
   ],
   "source": [
    "path = paths[0]\n",
    "dp = hs.load(path)\n",
    "\n",
    "q_exp = dp.axes_manager.signal_axes[0].axis\n",
    "if q_exp.min() > crop_range_q[0] or q_exp.max() < crop_range_q[1]:\n",
    "    warnings.warn(\"The range at which signal was acquired is not large enough. Extrapolation will be used using scipy.interpolate.interp1d\")\n",
    "\n",
    "q_array = dp.axes_manager.signal_axes[0].axis\n",
    "q_new = np.linspace(crop_range_q[0], crop_range_q[1], crop_size)\n",
    "dp_crop = dp.map(interpolate_1d, q_array = q_array, crop_range_q = crop_range_q, crop_size = crop_size,\n",
    "                    show_progressbar=True, parallel=True, inplace=False)\n",
    "\n",
    "# Correct for axes calibration\n",
    "sig_ax = dp_crop.axes_manager.signal_axes[0]\n",
    "sig_ax.offset = crop_range_q[0]\n",
    "sig_ax.scale = (crop_range_q[1] - crop_range_q[0])/ crop_size\n",
    "print(dp_crop)\n",
    "\n",
    "# Save files\n",
    "name = \"{}_crop_interpolate.hspy\".format(os.path.basename(path).split('.')[0])\n",
    "dp_crop.save(os.path.join(os.path.dirname(path), name), overwrite=True)\n",
    "name = \"{}_crop_interpolate.npz\".format(os.path.basename(path).split('.')[0])\n",
    "np.savez(os.path.join(os.path.dirname(path), name), y=dp_crop.data, x=q_new)\n",
    "\n",
    "# Save files not interpolated\n",
    "# Non interpolated\n",
    "dp_crop_no = dp.isig[crop_range_q[0]:crop_range_q[1]]\n",
    "q_old = dp_crop_no.axes_manager.signal_axes[0].axis\n",
    "name_no = \"{}_crop.hspy\".format(os.path.basename(path).split('.')[0])\n",
    "dp_crop_no.save(os.path.join(os.path.dirname(path), name_no), overwrite=True)\n",
    "name_no = \"{}_crop.npz\".format(os.path.basename(path).split('.')[0])\n",
    "np.savez(os.path.join(os.path.dirname(path), name_no), y=dp_crop_no.data, x=q_old)"
   ]
  },
  {
   "cell_type": "code",
   "execution_count": 14,
   "metadata": {},
   "outputs": [],
   "source": [
    "# Plot results\n",
    "plt.plot(q_new, dp_crop.mean().data, label=name)\n",
    "plt.plot(q_old, dp_crop_no.mean().data, label=name_no)\n",
    "\n",
    "plt.xlabel(\"q vector (A-1)\")\n",
    "plt.ylabel(\"Summed dp intensity\")\n",
    "plt.legend()\n",
    "plt.tight_layout()\n",
    "name_fig = \"{}_fig.png\".format(os.path.basename(path).split('.')[0])\n",
    "plt.savefig(os.path.join(os.path.dirname(path), name_fig))"
   ]
  },
  {
   "cell_type": "markdown",
   "metadata": {
    "collapsed": false,
    "pycharm": {
     "name": "#%% md\n"
    }
   },
   "source": [
    "## Interpolate 2D"
   ]
  },
  {
   "cell_type": "code",
   "execution_count": 15,
   "metadata": {
    "collapsed": false,
    "pycharm": {
     "name": "#%%\n"
    }
   },
   "outputs": [
    {
     "data": {
      "text/plain": [
       "['G:\\\\My Drive\\\\PhD\\\\projects\\\\sed_ML\\\\clustering_poyen\\\\data\\\\experimental\\\\tcdh_thin_20211117_182521\\\\20211117_182521_data_calibrated_data_radial2d.hspy']"
      ]
     },
     "execution_count": 15,
     "metadata": {},
     "output_type": "execute_result"
    }
   ],
   "source": [
    "folder = os.path.dirname(p)\n",
    "file_extension = '*.hspy'\n",
    "\n",
    "path = os.path.join(root, folder, file_extension)\n",
    "paths = glob.glob(path)\n",
    "paths_2d = [p for p in paths if 'radial2d.' in p and 'crop' not in p]\n",
    "paths_2d.sort()\n",
    "paths_2d"
   ]
  },
  {
   "cell_type": "code",
   "execution_count": 16,
   "metadata": {
    "collapsed": false,
    "pycharm": {
     "name": "#%%\n"
    }
   },
   "outputs": [],
   "source": [
    "path = paths_2d[0]\n",
    "dp2d = hs.load(path)\n",
    "\n",
    "# Save files not interpolated\n",
    "# Non interpolated\n",
    "dp2d_crop_no = dp2d.isig[:,crop_range_q[0]:crop_range_q[1]]\n",
    "q_old = dp2d_crop_no.axes_manager.signal_axes[1].axis\n",
    "name_no = \"{}_crop2d.hspy\".format(os.path.basename(path).split('.')[0])\n",
    "dp2d_crop_no.save(os.path.join(os.path.dirname(path), name_no), overwrite=True)\n",
    "name_no = \"{}_crop2d.npz\".format(os.path.basename(path).split('.')[0])\n",
    "np.savez(os.path.join(os.path.dirname(path), name_no), y=dp2d_crop_no.data, x=q_old)\n",
    "\n",
    "\n",
    "# q_exp = dp2d.axes_manager.signal_axes[1].axis\n",
    "# if q_exp.min() > crop_range_q[0] or q_exp.max() < crop_range_q[1]:\n",
    "#     warnings.warn(\n",
    "#         \"The range at which signal was acquired is not large enough. Extrapolation will be used using scipy.interpolate.interp1d\")\n",
    "# q_new = np.linspace(crop_range_q[0], crop_range_q[1], crop_size)\n",
    "\n",
    "# dp2d_crop = dp2d.map(interpolate_2d, q_array = q_exp, crop_range_q = crop_range_q, crop_size = crop_size,\n",
    "#                     show_progressbar=True, parallel=True, inplace=False)\n",
    "\n",
    "# # Correct for axes calibration\n",
    "# sig_ax = dp2d_crop.axes_manager.signal_axes[1]\n",
    "# sig_ax.offset = crop_range_q[0]\n",
    "# sig_ax.scale = (crop_range_q[1] - crop_range_q[0]) / crop_size\n",
    "\n",
    "# # Normalise data cropped for the npz\n",
    "# dpmax = dp2d_crop.data.max((-2, -1), keepdims=True)\n",
    "# dpmin = dp2d_crop.data.min((-2, -1), keepdims=True)\n",
    "# dp_crop_dat = (dp2d_crop.data - dpmin) / (dpmax - dpmin)\n",
    "# # Correct any nan value\n",
    "# nan_mask = np.isnan(dp_crop_dat)\n",
    "# dp_crop_dat[nan_mask] = 0\n",
    "\n",
    "# # Save files\n",
    "# name = \"{}_crop2d_interpolated.hspy\".format(os.path.basename(path).split('.')[0])\n",
    "# dp2d_crop.save(os.path.join(os.path.dirname(path), name), overwrite=True)\n",
    "# name = \"{}_crop2d_interpolated.npz\".format(os.path.basename(path).split('.')[0])\n",
    "# np.savez(os.path.join(os.path.dirname(path), name), y=dp_crop_dat, x=q_new)\n",
    "\n"
   ]
  },
  {
   "cell_type": "code",
   "execution_count": null,
   "metadata": {},
   "outputs": [],
   "source": [
    "# Plot results\n",
    "f, axs = plt.subplots(ncols=2)\n",
    "\n",
    "#axs[0].imshow(dp2d_crop.inav[:10,0].mean().data, vmax=10)\n",
    "axs[1].imshow(dp2d_crop_no.inav[:10,0].mean().data, vmax=10)\n",
    "axs[0].set_title(\"Interpolated mean\")\n",
    "axs[1].set_title(\"Non interpolated mean\")\n",
    "plt.tight_layout()\n",
    "\n",
    "name_fig = \"{}_fig.png\".format(os.path.basename(path).split('.')[0])\n",
    "plt.savefig(os.path.join(os.path.dirname(path), name_fig))"
   ]
  },
  {
   "cell_type": "code",
   "execution_count": null,
   "metadata": {},
   "outputs": [],
   "source": [
    "dp2d_crop_no.plot(vmax=1)"
   ]
  },
  {
   "cell_type": "code",
   "execution_count": null,
   "metadata": {},
   "outputs": [],
   "source": []
  },
  {
   "cell_type": "code",
   "execution_count": null,
   "metadata": {},
   "outputs": [],
   "source": []
  }
 ],
 "metadata": {
  "kernelspec": {
   "display_name": "Python 3.10.8 ('pyxem_py4dstem')",
   "language": "python",
   "name": "python3"
  },
  "language_info": {
   "codemirror_mode": {
    "name": "ipython",
    "version": 3
   },
   "file_extension": ".py",
   "mimetype": "text/x-python",
   "name": "python",
   "nbconvert_exporter": "python",
   "pygments_lexer": "ipython3",
   "version": "3.10.8"
  },
  "vscode": {
   "interpreter": {
    "hash": "5e8683652081ad25d5b6e2b9ff413b73f3a14e6da43ef7146303d54776a3d26b"
   }
  }
 },
 "nbformat": 4,
 "nbformat_minor": 0
}

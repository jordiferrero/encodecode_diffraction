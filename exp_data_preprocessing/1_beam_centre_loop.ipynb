{
    "cells": [
        {
            "cell_type": "markdown",
            "metadata": {
                "pycharm": {
                    "name": "#%% md\n"
                }
            },
            "source": [
                "# Mask, center, correct, calibrate and threshold 2D raw data"
            ]
        },
        {
            "cell_type": "code",
            "execution_count": 1,
            "metadata": {
                "pycharm": {
                    "name": "#%%\n"
                }
            },
            "outputs": [
                {
                    "name": "stderr",
                    "output_type": "stream",
                    "text": [
                        "WARNING:silx.opencl.common:Unable to import pyOpenCl. Please install it from: https://pypi.org/project/pyopencl\n"
                    ]
                },
                {
                    "data": {
                        "text/plain": [
                            "('1.7.3', '0.14.2', '0.13.6')"
                        ]
                    },
                    "execution_count": 1,
                    "metadata": {},
                    "output_type": "execute_result"
                }
            ],
            "source": [
                "import hyperspy.api as hs\n",
                "import pyxem as pxm\n",
                "import os, glob, gc\n",
                "import numpy as np\n",
                "import h5py\n",
                "import matplotlib.pyplot as plt\n",
                "import tqdm\n",
                "%matplotlib widget\n",
                "import json\n",
                "import py4DSTEM\n",
                "import logging\n",
                "hs.__version__, pxm.__version__, py4DSTEM.__version__"
            ]
        },
        {
            "cell_type": "code",
            "execution_count": 2,
            "metadata": {
                "pycharm": {
                    "name": "#%%\n"
                }
            },
            "outputs": [],
            "source": [
                "DATA_ROOT = r\"G:\\My Drive\\PhD\\projects\\sed_ML\\clustering_poyen\\data\\experimental\"\n",
                "\n",
                "data_files = []\n",
                "\n",
                "# Name of files\n",
                "data_wildcard = '**/*_data.hdf5'\n",
                "metadata_wildcard = '*.hdf'\n",
                "\n",
                "apply_mask = True\n",
                "mask_fname = r'**/mask.npy'\n",
                "\n",
                "threshold_ones = False\n",
                "rotate_dp = False\n",
                "\n",
                "crop_nav = False\n",
                "crop_sig = False\n",
                "\n",
                "global_cal_json_path = 'calibrations_diff.json'\n",
                "rotation_angle = 76.75"
            ]
        },
        {
            "cell_type": "code",
            "execution_count": 3,
            "metadata": {
                "collapsed": false,
                "pycharm": {
                    "name": "#%%\n"
                }
            },
            "outputs": [
                {
                    "name": "stdout",
                    "output_type": "stream",
                    "text": [
                        "4\n"
                    ]
                },
                {
                    "data": {
                        "text/plain": [
                            "(['G:\\\\My Drive\\\\PhD\\\\projects\\\\sed_ML\\\\clustering_poyen\\\\data\\\\experimental\\\\dcdh_20220628_114631\\\\20220628_114631_data.hdf5',\n",
                            "  'G:\\\\My Drive\\\\PhD\\\\projects\\\\sed_ML\\\\clustering_poyen\\\\data\\\\experimental\\\\polytype_all_20220720_155557\\\\20220720_155557_data.hdf5',\n",
                            "  'G:\\\\My Drive\\\\PhD\\\\projects\\\\sed_ML\\\\clustering_poyen\\\\data\\\\experimental\\\\tcdh_thin_20211117_182521\\\\20211117_182521_data.hdf5',\n",
                            "  'G:\\\\My Drive\\\\PhD\\\\projects\\\\sed_ML\\\\clustering_poyen\\\\data\\\\experimental\\\\tcdh_thin_20211117_182814\\\\20211117_182814_data.hdf5'],\n",
                            " 4)"
                        ]
                    },
                    "execution_count": 3,
                    "metadata": {},
                    "output_type": "execute_result"
                }
            ],
            "source": [
                "data_files = glob.glob(os.path.join(DATA_ROOT, data_wildcard), recursive=True)\n",
                "data_files.sort()\n",
                "\n",
                "print(len(data_files))\n",
                "data_files[:], len(data_files)"
            ]
        },
        {
            "cell_type": "code",
            "execution_count": 4,
            "metadata": {
                "collapsed": false,
                "pycharm": {
                    "name": "#%%\n"
                }
            },
            "outputs": [
                {
                    "data": {
                        "text/plain": [
                            "<matplotlib.image.AxesImage at 0x198616abd00>"
                        ]
                    },
                    "execution_count": 4,
                    "metadata": {},
                    "output_type": "execute_result"
                },
                {
                    "data": {
                        "application/vnd.jupyter.widget-view+json": {
                            "model_id": "32a7f8573b56418ead47f9bd01d26099",
                            "version_major": 2,
                            "version_minor": 0
                        },
                        "image/png": "[encoded data removed]",
                        "text/html": [
                            "\n",
                            "            <div style=\"display: inline-block;\">\n",
                            "                <div class=\"jupyter-widgets widget-label\" style=\"text-align: center;\">\n",
                            "                    Figure\n",
                            "                </div>\n",
                            "                <img src='data:image/png;base64,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' width=640.0/>\n",
                            "            </div>\n",
                            "        "
                        ],
                        "text/plain": [
                            "Canvas(toolbar=Toolbar(toolitems=[('Home', 'Reset original view', 'home', 'home'), ('Back', 'Back to previous …"
                        ]
                    },
                    "metadata": {},
                    "output_type": "display_data"
                }
            ],
            "source": [
                "# Load a mask to cover the dead pixels and the joints between detectors\n",
                "mask_fname = glob.glob(os.path.join(DATA_ROOT, mask_fname), recursive=True)[0]\n",
                "mask = np.load(mask_fname)\n",
                "plt.imshow(mask)"
            ]
        },
        {
            "cell_type": "code",
            "execution_count": 5,
            "metadata": {
                "pycharm": {
                    "name": "#%%\n"
                }
            },
            "outputs": [],
            "source": [
                "def get_magnification_from_file(metadata_fname):\n",
                "    md = h5py.File(metadata_fname, 'r')\n",
                "    mag = np.array(md['metadata/magnification'])\n",
                "    return mag\n",
                "\n",
                "\n",
                "# This can be removed once py4DSTEM gets updated in env\n",
                "import numpy as np\n",
                "from py4DSTEM.process.utils import get_CoM\n",
                "def get_probe_size(DP, thresh_lower=0.01, thresh_upper=0.99, N=100):\n",
                "    \"\"\"\n",
                "    Gets the center and radius of the probe in the diffraction plane.\n",
                "    The algorithm is as follows:\n",
                "    First, create a series of N binary masks, by thresholding the diffraction pattern\n",
                "    DP with a linspace of N thresholds from thresh_lower to thresh_upper, measured\n",
                "    relative to the maximum intensity in DP.\n",
                "    Using the area of each binary mask, calculate the radius r of a circular probe.\n",
                "    Because the central disk is typically very intense relative to the rest of the DP, r\n",
                "    should change very little over a wide range of intermediate values of the threshold.\n",
                "    The range in which r is trustworthy is found by taking the derivative of r(thresh)\n",
                "    and finding identifying where it is small.  The radius is taken to be the mean of\n",
                "    these r values. Using the threshold corresponding to this r, a mask is created and\n",
                "    the CoM of the DP times this mask it taken.  This is taken to be the origin x0,y0.\n",
                "    Args:\n",
                "        DP (2D array): the diffraction pattern in which to find the central disk.\n",
                "            A position averaged, or shift-corrected and averaged, DP works best.\n",
                "        thresh_lower (float, 0 to 1): the lower limit of threshold values\n",
                "        thresh_upper (float, 0 to 1): the upper limit of threshold values\n",
                "        N (int): the number of thresholds / masks to use\n",
                "    Returns:\n",
                "        (3-tuple): A 3-tuple containing:\n",
                "            * **r**: *(float)* the central disk radius, in pixels\n",
                "            * **x0**: *(float)* the x position of the central disk center\n",
                "            * **y0**: *(float)* the y position of the central disk center\n",
                "    \"\"\"\n",
                "    thresh_vals = np.linspace(thresh_lower, thresh_upper, N)\n",
                "    r_vals = np.zeros(N)\n",
                "\n",
                "    # Get r for each mask\n",
                "    DPmax = np.max(DP)\n",
                "    for i in range(len(thresh_vals)):\n",
                "        thresh = thresh_vals[i]\n",
                "        mask = DP > DPmax * thresh\n",
                "        r_vals[i] = np.sqrt(np.sum(mask) / np.pi)\n",
                "\n",
                "    # Get derivative and determine trustworthy r-values\n",
                "    dr_dtheta = np.gradient(r_vals)\n",
                "    mask = (dr_dtheta <= 0) * (dr_dtheta >= 2 * np.median(dr_dtheta))\n",
                "    r = np.mean(r_vals[mask])\n",
                "\n",
                "    # Get origin\n",
                "    thresh = np.mean(thresh_vals[mask])\n",
                "    mask = DP > DPmax * thresh\n",
                "    x0, y0 = get_CoM(DP * mask)\n",
                "    \n",
                "    return r, x0, y0\n",
                "\n",
                "def find_origin_using_cropped_signal(data, rad, x0, y0, crop_window_size = 0.005):\n",
                "    '''\n",
                "    Args:\n",
                "        data (DataCube instance): 4D-STEM dataset for which the origins will be found\n",
                "        rad (float): approximate radius of the central beam\n",
                "        x0 (float): approximate x coordinate of the central beam\n",
                "        y0 (float): approximate y coordinate of the central beam\n",
                "        crop_window_size (float, 0 to 1) proportion of the diffraction plane to use as a search window around the approximate centre\n",
                "    Returns:\n",
                "        (np.array): \n",
                "            A numpy array of shape (2, Rx,Ry) containing the central coordinates at each real space location\n",
                "    '''    \n",
                "    \n",
                "    #get a search window around the approximate centre based on a proportion of the total diffraction imaging plane\n",
                "    central_search_width = int(np.ceil(rad + data.data.shape[2]*crop_window_size))\n",
                "    \n",
                "    #calculate the bounds of this search window\n",
                "    x0r, y0r = int(x0//1), int(y0//1)\n",
                "    x_lower, x_upper =  x0r-central_search_width, x0r+central_search_width\n",
                "    y_lower, y_upper =  y0r-central_search_width, y0r+central_search_width\n",
                "    \n",
                "    #create a cropped DataCube instance\n",
                "    d_cent = py4DSTEM.io.DataCube(data.data[:,:,x_lower:x_upper,y_lower:y_upper])\n",
                "\n",
                "    #Find the origin of these cropped patterns\n",
                "    origins = py4DSTEM.process.calibration.origin.get_origin(d_cent, r = rad, rscale = 1.1) \n",
                "    cent_coords = list(origins)\n",
                "    cent_coords = np.asarray(cent_coords)\n",
                "    cent_coords = cent_coords[:2,:,:]\n",
                "    \n",
                "    #translate these central coordinates to uncropped image \n",
                "    cent_coords += np.array((x_lower, y_lower))[:,None,None]\n",
                "    \n",
                "    return cent_coords\n",
                "\n",
                "\n",
                "def center_using_pyxem(dp, mask):\n",
                "    \n",
                "    mean_dp = dp.mean()\n",
                "    # Get mean diffraction pattern to centre from there\n",
                "    mean_dp *= mask\n",
                "\n",
                "    centre = mean_dp.get_direct_beam_position(method = 'cross_correlate', radius_start = 1, radius_finish = 10)\n",
                "    shifts = [[centre.data[1], centre.data[0]]]\n",
                "    mean_dp.change_dtype('float32')\n",
                "    # Create shifts array and align and centre\n",
                "    n_shifts = shifts*(len(dp.data[0])*len(dp.data[:,1]))\n",
                "    n_shifts=np.array(n_shifts)\n",
                "    n_shifts = n_shifts.reshape(dp.data.shape[0],dp.data.shape[1],2)\n",
                "    dp.align2D(shifts = -n_shifts, crop = False)\n",
                "    dp.center_direct_beam(method='interpolate', sigma=5, upsample_factor=4, kind='linear', half_square_width=10)\n",
                "    return dp, shifts"
            ]
        },
        {
            "cell_type": "code",
            "execution_count": 7,
            "metadata": {},
            "outputs": [
                {
                    "name": "stderr",
                    "output_type": "stream",
                    "text": [
                        "C:\\Users\\jf631\\AppData\\Local\\Temp\\ipykernel_8220\\4077544651.py:1: TqdmDeprecationWarning: This function will be removed in tqdm==5.0.0\n",
                        "Please use `tqdm.notebook.tqdm` instead of `tqdm.tqdm_notebook`\n",
                        "  for i, fname in tqdm.tqdm_notebook(enumerate(data_files[2:3])):\n"
                    ]
                },
                {
                    "data": {
                        "application/vnd.jupyter.widget-view+json": {
                            "model_id": "932ba60daf274fc89b2aacb928b53076",
                            "version_major": 2,
                            "version_minor": 0
                        },
                        "text/plain": [
                            "0it [00:00, ?it/s]"
                        ]
                    },
                    "metadata": {},
                    "output_type": "display_data"
                },
                {
                    "name": "stdout",
                    "output_type": "stream",
                    "text": [
                        "[########################################] | 100% Completed | 130.69 s\n",
                        "estimate of BF rad: 5.217239678505429 and position 256.0480941472494, 252.53883805463568\n",
                        "File 0 20211117_182521_data finished.\n"
                    ]
                }
            ],
            "source": [
                "for i, fname in tqdm.tqdm_notebook(enumerate(data_files[2:3])):\n",
                "    \n",
                "    dp_dir = os.path.dirname(fname)\n",
                "    dp_name = os.path.basename(fname).split('.')[0]\n",
                "    #dp_name = dp_name.replace('_data_data', '')\n",
                "    print(dp_name)\n",
                "\n",
                "    # # Check if file already processed\n",
                "    name_temp = f'{dp_name}_calibrated_data.hspy'\n",
                "    path_to_check = os.path.join(dp_dir, name_temp)\n",
                "    if os.path.exists(path_to_check):\n",
                "        print(f\"{dp_name} already processed!\")\n",
                "        continue\n",
                "\n",
                "    # Load file\n",
                "    f = h5py.File(fname, 'r')['Experiments/__unnamed__/data']\n",
                "    dp = pxm.signals.electron_diffraction2d.ElectronDiffraction2D(np.array(f))\n",
                "\n",
                "    # Apply mask\n",
                "    if apply_mask:\n",
                "        dp *= mask\n",
                "\n",
                "    # Crop dp into divisible shape\n",
                "    if crop_nav:\n",
                "        dp = dp.inav[1:,1:]\n",
                "    if crop_sig:\n",
                "        dp = dp.isig[:-1,:-1]\n",
                "\n",
                "    # Reset the offset\n",
                "    dp.axes_manager.navigation_axes[0].offset = 0\n",
                "    dp.axes_manager.navigation_axes[1].offset = 0\n",
                "    dp.axes_manager.signal_axes[0].offset = 0\n",
                "    dp.axes_manager.signal_axes[1].offset = 0\n",
                "\n",
                "    # shift function\n",
                "    logging.info(\"Aligning the BF disc in the data.\")\n",
                "    d_before = dp.mean()\n",
                "    from scipy import ndimage\n",
                "    def shift_image(im, shift=0, interpolation_order=1, fill_value=0):\n",
                "        if not np.any(shift):\n",
                "            return im\n",
                "        else:\n",
                "            fractional, integral = np.modf(shift)\n",
                "            if fractional.any():\n",
                "                order = interpolation_order\n",
                "            else:\n",
                "                # Disable interpolation\n",
                "                order = 0\n",
                "            return ndimage.shift(im, shift, cval=fill_value, order=order)\n",
                "    # Getting the origin coordinates\n",
                "    data = py4DSTEM.io.DataCube(dp.data)\n",
                "    \n",
                "    # find good value for r for arbitrary data\n",
                "    rad, x0, y0 = get_probe_size(data.data[0,0,:,:])\n",
                "    print('BF disc radius in pixels:', int(rad))\n",
                "    ## Hard coded this in as was sometimes getting confused\n",
                "    # x0 = 297\n",
                "    # y0 = 224\n",
                "    \n",
                "    # Here rad is radius of BF disc\n",
                "    cent_coords = find_origin_using_cropped_signal(data, rad, x0, y0)\n",
                "    \n",
                "    # expressing them as shift values\n",
                "    cent_coords = cent_coords.reshape(2, dp.data.shape[0]*dp.data.shape[1])\n",
                "    shifts = -1 * (cent_coords - 515 // 2)\n",
                "    \n",
                "#     # Apply the above shifts\n",
                "#     data_resh = np.reshape(data.data, (d.data.shape[0]*d.data.shape[1],515,515))\n",
                "#     for i in range(data_resh.shape[0]):\n",
                "#         data_resh[i,:,:] = shift_image(data_resh[i,:,:], shift= [shifts[0][i], shifts[1][i]])\n",
                "        \n",
                "    \n",
                "    dp, shifts = center_using_pyxem(dp, mask)\n",
                "    d_mean = dp.mean()    \n",
                "        \n",
                "    #Plotting mean signal with the estimate of the centre positions\n",
                "    fig, axs = plt.subplots(1,2)\n",
                "    axs[0].imshow(np.log10(1 + d_before.data), vmax=0.4)\n",
                "    axs[0].set_title('before align')\n",
                "    axs[1].imshow(np.log10(1 + d_mean.data), vmax=0.4)\n",
                "    axs[1].set_title('after align')\n",
                "    for ax in axs.flatten():\n",
                "        ax.set_xticks([])\n",
                "        ax.set_yticks([])\n",
                "    plt.savefig(f'{os.getcwd()}/aligning_BF_disc.png')\n",
                "\n",
                "    # Calibrate\n",
                "    # Check to see if json file with diff cals existing\n",
                "    def load_calibrations(global_cal_json_path, dp_dir):\n",
                "        import json\n",
                "        with open(os.path.join(dp_dir, global_cal_json_path)) as json_file:\n",
                "            cals = json.load(json_file)\n",
                "\n",
                "        recip_pix = cals['reciprocal_space_pix(1/A)']\n",
                "        affine_matrix = np.asarray(cals['affine_transform'])\n",
                "        nav_cal = cals['real_space_pix(nm)']\n",
                "        return recip_pix, affine_matrix, nav_cal\n",
                "\n",
                "    recip_pix, affine_matrix, nav_cal = load_calibrations(global_cal_json_path, dp_dir)\n",
                "    dp.set_scan_calibration(nav_cal)\n",
                "    dp.set_diffraction_calibration(recip_pix)\n",
                "\n",
                "    dp.apply_affine_transformation(affine_matrix,keep_dtype=True)\n",
                "    dp_mean = dp.mean()\n",
                "    rad, x0, y0 = get_probe_size(dp_mean.data)\n",
                "    print(f'estimate of BF rad: {rad} and position {x0}, {y0}')\n",
                "    dp.set_diffraction_calibration(recip_pix, center=(recip_pix * x0,recip_pix * y0))\n",
                "    \n",
                "    # saving a calibrated version\n",
                "    dp.save(f'{dp_dir}/{dp_name}_calibrated_data', overwrite=True)\n",
                "    dp.save(f'{dp_dir}/{dp_name}_calibrated_data', overwrite=True)\n",
                "\n",
                "\n",
                "\n",
                "\n",
                "\n",
                "\n",
                "\n",
                "\n",
                "\n",
                "\n",
                "    # # Get mean diffraction pattern to centre from there\n",
                "    # mean_dp = dp.mean()\n",
                "    # mean_dp = pxm.signals.electron_diffraction2d.ElectronDiffraction2D(mean_dp)\n",
                "    # centre = mean_dp.get_direct_beam_position(method = 'cross_correlate', radius_start = 1, radius_finish = 10)\n",
                "    # shifts = [[centre.data[0], centre.data[1]]]\n",
                "\n",
                "    # # Create shifts array and align and centre\n",
                "    # n_shifts = shifts * dp.axes_manager.navigation_shape[0] * dp.axes_manager.navigation_shape[1]\n",
                "    # n_shifts=np.array(n_shifts)\n",
                "    # new_shape = (dp.axes_manager.navigation_shape[1], dp.axes_manager.navigation_shape[0], 2)\n",
                "    # n_shifts = n_shifts.reshape(new_shape)\n",
                "    # dp.align2D(shifts = -n_shifts, crop = False)\n",
                "    # dp.center_direct_beam(method='interpolate', sigma=5, upsample_factor=4, kind='linear', half_square_width=10)\n",
                "\n",
                "    \n",
                "\n",
                "    # # Save cropped\n",
                "    # # name_temp = f'{dp_name}_cropped.hspy'\n",
                "    # # dp.save(os.path.join(dp_dir, name_temp), overwrite=True)\n",
                "\n",
                "    # # Apply affine transforms (affine + rot)\n",
                "    # transform_mat = affine_matrix\n",
                "    # dp.apply_affine_transformation(transform_mat, keep_dtype=True)\n",
                "\n",
                "    # # Rotate\n",
                "    # if rotate_dp:\n",
                "    #     continue\n",
                "    #     # TODO: Add scipy.rotate with the dp.map function\n",
                "\n",
                "    # dp.set_diffraction_calibration(recip_pix)\n",
                "    # # Save\n",
                "    # name_temp = f'{dp_name}_processed.hspy'\n",
                "    # dp.save(os.path.join(dp_dir, name_temp), overwrite=True)\n",
                "\n",
                "    # # Save sum_dp\n",
                "    # sum_dp = dp.sum()\n",
                "    # name_temp = f'{dp_name}_sum_dp.hspy'\n",
                "    # sum_dp.save(os.path.join(dp_dir, name_temp), overwrite=True)\n",
                "    # sum_dp.change_dtype('float32')\n",
                "    # name_temp = f'{dp_name}_sum_dp.tiff'\n",
                "    # sum_dp.save(os.path.join(dp_dir, name_temp), overwrite=True)\n",
                "\n",
                "    # # Save rebinned data\n",
                "    # dp_nav_rebin = dp.inav[:-1,:-1].rebin(scale=[2,2,1,1])\n",
                "    # name_temp = f'{dp_name}_rebin_nav_2.hspy'\n",
                "    # dp_nav_rebin.save(os.path.join(dp_dir, name_temp), overwrite=True)\n",
                "\n",
                "    # dp_sig_rebin = dp.isig[:-1,:-1].rebin(scale=[1,1,2,2])\n",
                "    # name_temp = f'{dp_name}_rebin_sig_2.hspy'\n",
                "    # dp_sig_rebin.save(os.path.join(dp_dir, name_temp), overwrite=True)\n",
                "\n",
                "    # if threshold_ones:\n",
                "    #     # Threshold the pixels with counts 1\n",
                "    #     dp2 = dp.deecopy()\n",
                "    #     dp2.data[dp2.data==1] = 0\n",
                "    #     name_temp = f'{dp_name}_processed_threshold.hspy'\n",
                "    #     dp2.save(os.path.join(dp_dir, name_temp), overwrite=True)\n",
                "    #     del dp2\n",
                "\n",
                "    # Clean up memory\n",
                "    del dp\n",
                "    gc.collect()\n",
                "    print(f\"File {i} {dp_name} finished.\")"
            ]
        },
        {
            "cell_type": "code",
            "execution_count": 7,
            "metadata": {
                "collapsed": false,
                "pycharm": {
                    "name": "#%%\n"
                }
            },
            "outputs": [],
            "source": [
                "# name_temp = f'{dp_name}_processed.hspy'\n",
                "# dp = hs.load(os.path.join(dp_dir, name_temp),)\n",
                "# print(dp)"
            ]
        },
        {
            "cell_type": "code",
            "execution_count": 8,
            "metadata": {
                "collapsed": false,
                "pycharm": {
                    "name": "#%%\n"
                }
            },
            "outputs": [
                {
                    "data": {
                        "text/plain": [
                            "255.97447023712897"
                        ]
                    },
                    "execution_count": 8,
                    "metadata": {},
                    "output_type": "execute_result"
                }
            ],
            "source": [
                "x0"
            ]
        },
        {
            "cell_type": "code",
            "execution_count": null,
            "metadata": {},
            "outputs": [],
            "source": []
        }
    ],
    "metadata": {
        "kernelspec": {
            "display_name": "Python 3.10.8 ('pyxem_py4dstem')",
            "language": "python",
            "name": "python3"
        },
        "language_info": {
            "codemirror_mode": {
                "name": "ipython",
                "version": 3
            },
            "file_extension": ".py",
            "mimetype": "text/x-python",
            "name": "python",
            "nbconvert_exporter": "python",
            "pygments_lexer": "ipython3",
            "version": "3.10.8"
        },
        "vscode": {
            "interpreter": {
                "hash": "5e8683652081ad25d5b6e2b9ff413b73f3a14e6da43ef7146303d54776a3d26b"
            }
        }
    },
    "nbformat": 4,
    "nbformat_minor": 4
}

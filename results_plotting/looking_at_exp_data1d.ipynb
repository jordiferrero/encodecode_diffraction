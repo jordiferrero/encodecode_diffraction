{
 "cells": [
  {
   "cell_type": "code",
   "execution_count": 11,
   "metadata": {},
   "outputs": [],
   "source": [
    "%matplotlib qt\n",
    "import hyperspy.api as hs\n",
    "import matplotlib.pyplot as plt\n",
    "import os, glob\n",
    "import numpy as np"
   ]
  },
  {
   "cell_type": "code",
   "execution_count": 13,
   "metadata": {},
   "outputs": [
    {
     "name": "stdout",
     "output_type": "stream",
     "text": [
      "<ElectronDiffraction2D, title: , dimensions: (255, 255|515, 515)>\n"
     ]
    }
   ],
   "source": [
    "root = r\"G:\\My Drive\\PhD\\projects\\sed_ML\\clustering_poyen\"\n",
    "experiment = r\"data\\experimental\\polytype_all_20220720_155557\"\n",
    "wildcard = '20211117_182814_data_processed_radial_crop.hspy'\n",
    "wildcard = \"20211117_182814_data_rebin_nav_2_radial2d_crop2d.hspy\"\n",
    "wildcard = \"20220720_155557_data_calibrated_data.hspy\"\n",
    "\n",
    "dp = hs.load(os.path.join(root, experiment, wildcard ))\n",
    "print(dp)"
   ]
  },
  {
   "cell_type": "code",
   "execution_count": 14,
   "metadata": {},
   "outputs": [],
   "source": [
    "#dp.isig[0.1:0.25,0.1:0.25].plot()\n",
    "(dp).plot(vmax=3)"
   ]
  },
  {
   "cell_type": "code",
   "execution_count": 15,
   "metadata": {},
   "outputs": [
    {
     "name": "stderr",
     "output_type": "stream",
     "text": [
      "WARNING:hyperspy.io:`signal_type='electron_diffraction'` not understood. See `hs.print_known_signal_types()` for a list of installed signal types or https://github.com/hyperspy/hyperspy-extensions-list for the list of all hyperspy extensions providing signals.\n",
      "WARNING:hyperspy.io:`signal_type='electron_diffraction'` not understood. See `hs.print_known_signal_types()` for a list of installed signal types or https://github.com/hyperspy/hyperspy-extensions-list for the list of all hyperspy extensions providing signals.\n"
     ]
    },
    {
     "data": {
      "text/plain": [
       "<BaseSignal, title: Stack of , dimensions: (15|38)>"
      ]
     },
     "execution_count": 15,
     "metadata": {},
     "output_type": "execute_result"
    }
   ],
   "source": [
    "dp_log = dp.isig[-1.:1.,-1.:1.] ** 0.33\n",
    "\n",
    "dp_log.plot(cmap='viridis')\n",
    "roi_l=  hs.roi.Line2DROI(0,0,0.3,0.3)\n",
    "roi_l.interactive(dp_log)"
   ]
  },
  {
   "cell_type": "code",
   "execution_count": 13,
   "metadata": {},
   "outputs": [
    {
     "name": "stdout",
     "output_type": "stream",
     "text": [
      "0.599 \n",
      "45.8°\n"
     ]
    }
   ],
   "source": [
    "angle = roi_l.angle()\n",
    "angle = 360 + angle if angle < 0 else angle\n",
    "print(f\"{roi_l.length:.3f} \\n{angle:.1f}°\")"
   ]
  },
  {
   "cell_type": "code",
   "execution_count": null,
   "metadata": {},
   "outputs": [],
   "source": []
  }
 ],
 "metadata": {
  "kernelspec": {
   "display_name": "Python 3.10.8 ('pyxem_py4dstem')",
   "language": "python",
   "name": "python3"
  },
  "language_info": {
   "codemirror_mode": {
    "name": "ipython",
    "version": 3
   },
   "file_extension": ".py",
   "mimetype": "text/x-python",
   "name": "python",
   "nbconvert_exporter": "python",
   "pygments_lexer": "ipython3",
   "version": "3.10.8"
  },
  "orig_nbformat": 4,
  "vscode": {
   "interpreter": {
    "hash": "5e8683652081ad25d5b6e2b9ff413b73f3a14e6da43ef7146303d54776a3d26b"
   }
  }
 },
 "nbformat": 4,
 "nbformat_minor": 2
}

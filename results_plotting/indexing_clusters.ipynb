{
 "cells": [
  {
   "cell_type": "code",
   "execution_count": 2,
   "metadata": {},
   "outputs": [],
   "source": [
    "%matplotlib qt\n",
    "import hyperspy.api as hs\n",
    "import matplotlib.pyplot as plt\n",
    "import os, glob\n",
    "import numpy as np"
   ]
  },
  {
   "cell_type": "code",
   "execution_count": 3,
   "metadata": {},
   "outputs": [
    {
     "name": "stderr",
     "output_type": "stream",
     "text": [
      "WARNING:hyperspy.io:`signal_type='electron_diffraction'` not understood. See `hs.print_known_signal_types()` for a list of installed signal types or https://github.com/hyperspy/hyperspy-extensions-list for the list of all hyperspy extensions providing signals.\n"
     ]
    },
    {
     "name": "stdout",
     "output_type": "stream",
     "text": [
      "<Signal2D, title: Stack of , dimensions: (15|257, 257)>\n"
     ]
    }
   ],
   "source": [
    "root = r\"G:\\My Drive\\PhD\\projects\\sed_ML\\clustering_poyen\"\n",
    "experiment = r\"data\\20221029_first_attempt\\cluster_navigators\"\n",
    "wildcard = 'mean_dp_for_each_cluster.hspy'\n",
    "\n",
    "dp = hs.load(os.path.join(root, experiment, wildcard ))\n",
    "print(dp)"
   ]
  },
  {
   "cell_type": "code",
   "execution_count": 15,
   "metadata": {},
   "outputs": [
    {
     "name": "stderr",
     "output_type": "stream",
     "text": [
      "WARNING:hyperspy.io:`signal_type='electron_diffraction'` not understood. See `hs.print_known_signal_types()` for a list of installed signal types or https://github.com/hyperspy/hyperspy-extensions-list for the list of all hyperspy extensions providing signals.\n",
      "WARNING:hyperspy.io:`signal_type='electron_diffraction'` not understood. See `hs.print_known_signal_types()` for a list of installed signal types or https://github.com/hyperspy/hyperspy-extensions-list for the list of all hyperspy extensions providing signals.\n"
     ]
    },
    {
     "data": {
      "text/plain": [
       "<BaseSignal, title: Stack of , dimensions: (15|38)>"
      ]
     },
     "execution_count": 15,
     "metadata": {},
     "output_type": "execute_result"
    }
   ],
   "source": [
    "dp_log = dp.isig[-1.:1.,-1.:1.] ** 0.33\n",
    "\n",
    "dp_log.plot(cmap='viridis')\n",
    "roi_l=  hs.roi.Line2DROI(0,0,0.3,0.3)\n",
    "roi_l.interactive(dp_log)"
   ]
  },
  {
   "cell_type": "code",
   "execution_count": 13,
   "metadata": {},
   "outputs": [
    {
     "name": "stdout",
     "output_type": "stream",
     "text": [
      "0.599 \n",
      "45.8°\n"
     ]
    }
   ],
   "source": [
    "angle = roi_l.angle()\n",
    "angle = 360 + angle if angle < 0 else angle\n",
    "print(f\"{roi_l.length:.3f} \\n{angle:.1f}°\")"
   ]
  },
  {
   "cell_type": "code",
   "execution_count": null,
   "metadata": {},
   "outputs": [],
   "source": []
  }
 ],
 "metadata": {
  "kernelspec": {
   "display_name": "Python 3.7.9 ('lumispy')",
   "language": "python",
   "name": "python3"
  },
  "language_info": {
   "codemirror_mode": {
    "name": "ipython",
    "version": 3
   },
   "file_extension": ".py",
   "mimetype": "text/x-python",
   "name": "python",
   "nbconvert_exporter": "python",
   "pygments_lexer": "ipython3",
   "version": "3.7.9"
  },
  "orig_nbformat": 4,
  "vscode": {
   "interpreter": {
    "hash": "2c0df31fa79ef1b51481a3d3a0c6ba82cf0e6047065e301dd45347d916c31742"
   }
  }
 },
 "nbformat": 4,
 "nbformat_minor": 2
}
